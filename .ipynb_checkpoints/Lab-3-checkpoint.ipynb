{
 "cells": [
  {
   "cell_type": "markdown",
   "id": "11f56067-9b67-4d35-abad-8d8e80c498d9",
   "metadata": {},
   "source": [
    "# NPL Basics using NLTK"
   ]
  },
  {
   "cell_type": "code",
   "execution_count": 6,
   "id": "09355675-4e27-4ce5-96c0-5054f6e65568",
   "metadata": {},
   "outputs": [
    {
     "name": "stderr",
     "output_type": "stream",
     "text": [
      "[nltk_data] Downloading package punkt to /home/jovyan/nltk_data...\n",
      "[nltk_data]   Package punkt is already up-to-date!\n"
     ]
    },
    {
     "data": {
      "text/plain": [
       "True"
      ]
     },
     "execution_count": 6,
     "metadata": {},
     "output_type": "execute_result"
    }
   ],
   "source": [
    "# importing libraries\n",
    "import nltk\n",
    "nltk.download('punkt')"
   ]
  },
  {
   "cell_type": "code",
   "execution_count": 7,
   "id": "23f3c0f4-063e-432f-99f7-58109121eaed",
   "metadata": {},
   "outputs": [],
   "source": [
    "AI = \"AI: this ia about ai and ai implementations. Artificial intelligence (AI) is intel\""
   ]
  },
  {
   "cell_type": "markdown",
   "id": "8be806b2-ca22-40da-9c17-d12c14e5d475",
   "metadata": {},
   "source": [
    "## To lower"
   ]
  },
  {
   "cell_type": "code",
   "execution_count": 8,
   "id": "358c77c1-1103-47f8-a111-3317e4fb2dc0",
   "metadata": {},
   "outputs": [],
   "source": [
    "AI = AI.lower()"
   ]
  },
  {
   "cell_type": "code",
   "execution_count": 9,
   "id": "96827241-14f1-4dd8-9866-65eb3886f14f",
   "metadata": {},
   "outputs": [
    {
     "data": {
      "text/plain": [
       "'ai: this ia about ai and ai implementations. artificial intelligence (ai) is intel'"
      ]
     },
     "execution_count": 9,
     "metadata": {},
     "output_type": "execute_result"
    }
   ],
   "source": [
    "AI"
   ]
  },
  {
   "cell_type": "markdown",
   "id": "4d42da4d-a24e-4a15-9725-0c1ce95aaa41",
   "metadata": {},
   "source": [
    "## Tokenize"
   ]
  },
  {
   "cell_type": "code",
   "execution_count": 10,
   "id": "3ca31963-a589-4703-bf8a-ae6beb8d92a4",
   "metadata": {},
   "outputs": [],
   "source": [
    "from nltk.tokenize import word_tokenize"
   ]
  },
  {
   "cell_type": "code",
   "execution_count": 11,
   "id": "bca8d862-3bd7-4a71-971c-dccf6628ef55",
   "metadata": {},
   "outputs": [],
   "source": [
    "AI_tokens = word_tokenize(AI)"
   ]
  },
  {
   "cell_type": "code",
   "execution_count": 12,
   "id": "2272cb7a-7694-4d8d-89ac-2a7156c0a53e",
   "metadata": {},
   "outputs": [
    {
     "data": {
      "text/plain": [
       "['ai',\n",
       " ':',\n",
       " 'this',\n",
       " 'ia',\n",
       " 'about',\n",
       " 'ai',\n",
       " 'and',\n",
       " 'ai',\n",
       " 'implementations',\n",
       " '.',\n",
       " 'artificial',\n",
       " 'intelligence',\n",
       " '(',\n",
       " 'ai',\n",
       " ')',\n",
       " 'is',\n",
       " 'intel']"
      ]
     },
     "execution_count": 12,
     "metadata": {},
     "output_type": "execute_result"
    }
   ],
   "source": [
    "AI_tokens"
   ]
  },
  {
   "cell_type": "code",
   "execution_count": 13,
   "id": "f85a38c1-f8e7-4914-a6da-ae6c13baa470",
   "metadata": {},
   "outputs": [
    {
     "data": {
      "text/plain": [
       "FreqDist({'ai': 4, ':': 1, 'this': 1, 'ia': 1, 'about': 1, 'and': 1, 'implementations': 1, '.': 1, 'artificial': 1, 'intelligence': 1, ...})"
      ]
     },
     "execution_count": 13,
     "metadata": {},
     "output_type": "execute_result"
    }
   ],
   "source": [
    "from nltk.probability import FreqDist\n",
    "fdist = FreqDist(AI_tokens)\n",
    "fdist"
   ]
  },
  {
   "cell_type": "code",
   "execution_count": 14,
   "id": "3dd0575a-1350-4553-80ee-630f3ff5dce9",
   "metadata": {},
   "outputs": [
    {
     "data": {
      "text/plain": [
       "4"
      ]
     },
     "execution_count": 14,
     "metadata": {},
     "output_type": "execute_result"
    }
   ],
   "source": [
    "fdist['ai']"
   ]
  },
  {
   "cell_type": "code",
   "execution_count": 15,
   "id": "496e9906-b70d-46e9-8582-2000499595e8",
   "metadata": {},
   "outputs": [
    {
     "data": {
      "text/plain": [
       "[('ai', 4),\n",
       " (':', 1),\n",
       " ('this', 1),\n",
       " ('ia', 1),\n",
       " ('about', 1),\n",
       " ('and', 1),\n",
       " ('implementations', 1)]"
      ]
     },
     "execution_count": 15,
     "metadata": {},
     "output_type": "execute_result"
    }
   ],
   "source": [
    "fdist.most_common(7)"
   ]
  },
  {
   "cell_type": "markdown",
   "id": "52aeb9e4-8d36-4b30-88fc-7a7a60cf0a3b",
   "metadata": {},
   "source": [
    "## N-Grams"
   ]
  },
  {
   "cell_type": "code",
   "execution_count": 16,
   "id": "9d1c4d01-728b-4a0c-adc5-05c0354678e8",
   "metadata": {},
   "outputs": [],
   "source": [
    "from nltk.util import bigrams,trigrams,ngrams"
   ]
  },
  {
   "cell_type": "code",
   "execution_count": 17,
   "id": "aa53fcf6-2631-4879-b882-58cb6e76bf0b",
   "metadata": {},
   "outputs": [
    {
     "data": {
      "text/plain": [
       "['I', 'am', 'a', 'student']"
      ]
     },
     "execution_count": 17,
     "metadata": {},
     "output_type": "execute_result"
    }
   ],
   "source": [
    "text = 'I am a student'\n",
    "text_tokens = word_tokenize(text)\n",
    "text_tokens"
   ]
  },
  {
   "cell_type": "code",
   "execution_count": 18,
   "id": "1ef9a7e6-6c10-4b1f-89b9-fe3bd374d878",
   "metadata": {},
   "outputs": [
    {
     "data": {
      "text/plain": [
       "[('I', 'am'), ('am', 'a'), ('a', 'student')]"
      ]
     },
     "execution_count": 18,
     "metadata": {},
     "output_type": "execute_result"
    }
   ],
   "source": [
    "list(bigrams(text_tokens))"
   ]
  },
  {
   "cell_type": "code",
   "execution_count": 19,
   "id": "5cf16389-51fe-464c-890b-134f6b12753a",
   "metadata": {},
   "outputs": [
    {
     "data": {
      "text/plain": [
       "[('I', 'am', 'a'), ('am', 'a', 'student')]"
      ]
     },
     "execution_count": 19,
     "metadata": {},
     "output_type": "execute_result"
    }
   ],
   "source": [
    "list(trigrams(text_tokens))"
   ]
  },
  {
   "cell_type": "code",
   "execution_count": 20,
   "id": "c4c0964e-88fa-40a5-9c19-cdca282fc584",
   "metadata": {},
   "outputs": [
    {
     "data": {
      "text/plain": [
       "[('I', 'am', 'a', 'student')]"
      ]
     },
     "execution_count": 20,
     "metadata": {},
     "output_type": "execute_result"
    }
   ],
   "source": [
    "N=4\n",
    "list(ngrams(text_tokens,N))"
   ]
  },
  {
   "cell_type": "code",
   "execution_count": 21,
   "id": "f071f5f8-cbdb-491e-a4d2-7d764ef051bc",
   "metadata": {},
   "outputs": [
    {
     "data": {
      "text/plain": [
       "[('I',), ('am',), ('a',), ('student',)]"
      ]
     },
     "execution_count": 21,
     "metadata": {},
     "output_type": "execute_result"
    }
   ],
   "source": [
    "N=1\n",
    "list(ngrams(text_tokens,N))"
   ]
  },
  {
   "cell_type": "markdown",
   "id": "39503bef-2a26-403c-8fb1-0626f033aebf",
   "metadata": {},
   "source": [
    "## Stemming"
   ]
  },
  {
   "cell_type": "code",
   "execution_count": 22,
   "id": "75849b6c-6df4-46e9-a371-c60443818ed6",
   "metadata": {},
   "outputs": [],
   "source": [
    "from nltk import PorterStemmer \n",
    "pst = PorterStemmer()"
   ]
  },
  {
   "cell_type": "code",
   "execution_count": 23,
   "id": "816aa37b-fcd3-4ae8-ae56-1ccf1c61d4a0",
   "metadata": {},
   "outputs": [],
   "source": [
    "word_to_stem = [ 'give' , 'giving' , 'gave' , 'given' , 'gives' ]"
   ]
  },
  {
   "cell_type": "code",
   "execution_count": 24,
   "id": "d73c6aac-9b39-4c68-b754-b3bf793453d5",
   "metadata": {},
   "outputs": [
    {
     "name": "stdout",
     "output_type": "stream",
     "text": [
      "give: give\n",
      "giving: give\n",
      "gave: gave\n",
      "given: given\n",
      "gives: give\n"
     ]
    }
   ],
   "source": [
    "for word in word_to_stem: \n",
    "    print( word + \": \" + pst . stem ( word ))"
   ]
  },
  {
   "cell_type": "code",
   "execution_count": 25,
   "id": "934ed962-72bb-4d06-9a17-1170ef2387d2",
   "metadata": {},
   "outputs": [],
   "source": [
    "from nltk import LancasterStemmer \n",
    "lst = LancasterStemmer ()"
   ]
  },
  {
   "cell_type": "code",
   "execution_count": 26,
   "id": "2649d84a-c0ab-478b-a8f3-5195622abdd1",
   "metadata": {},
   "outputs": [
    {
     "name": "stdout",
     "output_type": "stream",
     "text": [
      "give: giv\n",
      "giving: giv\n",
      "gave: gav\n",
      "given: giv\n",
      "gives: giv\n"
     ]
    }
   ],
   "source": [
    "for word in word_to_stem: \n",
    "    print( word + \": \" + lst . stem ( word ))"
   ]
  },
  {
   "cell_type": "markdown",
   "id": "d4a0c1ce-b9dd-4ef3-879a-59c54e233c55",
   "metadata": {},
   "source": [
    "## Stop word removal"
   ]
  },
  {
   "cell_type": "code",
   "execution_count": 27,
   "id": "1b6e5736-2b24-4b5b-9a9a-926b865eea95",
   "metadata": {},
   "outputs": [
    {
     "name": "stderr",
     "output_type": "stream",
     "text": [
      "[nltk_data] Downloading package stopwords to /home/jovyan/nltk_data...\n",
      "[nltk_data]   Unzipping corpora/stopwords.zip.\n"
     ]
    },
    {
     "data": {
      "text/plain": [
       "True"
      ]
     },
     "execution_count": 27,
     "metadata": {},
     "output_type": "execute_result"
    }
   ],
   "source": [
    "# Download Stop words \n",
    "nltk.download('stopwords')"
   ]
  },
  {
   "cell_type": "code",
   "execution_count": 28,
   "id": "0a259e9c-1cda-4014-b567-b9f9c7b8548f",
   "metadata": {},
   "outputs": [],
   "source": [
    "from nltk.corpus import stopwords"
   ]
  },
  {
   "cell_type": "code",
   "execution_count": 29,
   "id": "30f77ffd-ea8f-4865-bad1-4c2cbde0d2d6",
   "metadata": {},
   "outputs": [],
   "source": [
    "text = \"In the past I liked sports, but now I like both sports and politics.\" \n",
    "text = text.lower() \n",
    "text_tokens = word_tokenize( text )"
   ]
  },
  {
   "cell_type": "code",
   "execution_count": 30,
   "id": "cb9bd3d5-8629-4164-befe-16bea7cac611",
   "metadata": {},
   "outputs": [
    {
     "data": {
      "text/plain": [
       "['in',\n",
       " 'the',\n",
       " 'past',\n",
       " 'i',\n",
       " 'liked',\n",
       " 'sports',\n",
       " ',',\n",
       " 'but',\n",
       " 'now',\n",
       " 'i',\n",
       " 'like',\n",
       " 'both',\n",
       " 'sports',\n",
       " 'and',\n",
       " 'politics',\n",
       " '.']"
      ]
     },
     "execution_count": 30,
     "metadata": {},
     "output_type": "execute_result"
    }
   ],
   "source": [
    "text_tokens"
   ]
  },
  {
   "cell_type": "code",
   "execution_count": 33,
   "id": "9e8c1ba6-2476-4fbe-a077-d0d2e0da7e3c",
   "metadata": {},
   "outputs": [
    {
     "data": {
      "text/plain": [
       "['past', 'liked', 'sports', ',', 'like', 'sports', 'politics', '.']"
      ]
     },
     "execution_count": 33,
     "metadata": {},
     "output_type": "execute_result"
    }
   ],
   "source": [
    "text_tokens_wo_stopWords = [] \n",
    "for word in text_tokens: \n",
    "    if not word in stopwords.words ('english'): \n",
    "        text_tokens_wo_stopWords.append(word)\n",
    "text_tokens_wo_stopWords"
   ]
  },
  {
   "cell_type": "code",
   "execution_count": 35,
   "id": "aa1a7fd9-c3b0-47ba-b1c6-aa808f142b78",
   "metadata": {},
   "outputs": [],
   "source": [
    "myOwn_stopwords = [ ',' , '.' ] + stopwords.words('english')"
   ]
  },
  {
   "cell_type": "code",
   "execution_count": 36,
   "id": "2f29b876-cfce-4f34-8942-86db54687c1a",
   "metadata": {},
   "outputs": [
    {
     "data": {
      "text/plain": [
       "['past', 'liked', 'sports', 'like', 'sports', 'politics']"
      ]
     },
     "execution_count": 36,
     "metadata": {},
     "output_type": "execute_result"
    }
   ],
   "source": [
    "my_text_wo_stopWord = [word for word in text_tokens if not word in myOwn_stopwords] \n",
    "my_text_wo_stopWord"
   ]
  },
  {
   "cell_type": "code",
   "execution_count": null,
   "id": "6a471fcc-fa44-4d0a-b686-e0a5f98e0f6b",
   "metadata": {},
   "outputs": [],
   "source": []
  }
 ],
 "metadata": {
  "kernelspec": {
   "display_name": "Python 3",
   "language": "python",
   "name": "python3"
  },
  "language_info": {
   "codemirror_mode": {
    "name": "ipython",
    "version": 3
   },
   "file_extension": ".py",
   "mimetype": "text/x-python",
   "name": "python",
   "nbconvert_exporter": "python",
   "pygments_lexer": "ipython3",
   "version": "3.9.2"
  }
 },
 "nbformat": 4,
 "nbformat_minor": 5
}
