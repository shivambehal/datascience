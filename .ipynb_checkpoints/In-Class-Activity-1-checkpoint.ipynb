{
 "cells": [
  {
   "cell_type": "markdown",
   "id": "6a0e3d67-5807-4703-a8d8-aa68c6ad7821",
   "metadata": {},
   "source": [
    "# In-class_Assignment-1\n",
    "## Shivam Behal C0779571"
   ]
  },
  {
   "cell_type": "code",
   "execution_count": 1,
   "id": "d06c34ce-3ade-499c-ba42-54e2f641a754",
   "metadata": {},
   "outputs": [
    {
     "name": "stdout",
     "output_type": "stream",
     "text": [
      "Requirement already satisfied: python-dotenv in /opt/conda/lib/python3.9/site-packages (0.17.1)\n"
     ]
    }
   ],
   "source": [
    "!pip install python-dotenv"
   ]
  },
  {
   "cell_type": "code",
   "execution_count": 2,
   "id": "8fec41e6-d491-41a9-8505-52a7b6970e85",
   "metadata": {},
   "outputs": [
    {
     "name": "stdout",
     "output_type": "stream",
     "text": [
      "Requirement already satisfied: tweepy in /opt/conda/lib/python3.9/site-packages (3.10.0)\n",
      "Requirement already satisfied: six>=1.10.0 in /opt/conda/lib/python3.9/site-packages (from tweepy) (1.16.0)\n",
      "Requirement already satisfied: requests-oauthlib>=0.7.0 in /opt/conda/lib/python3.9/site-packages (from tweepy) (1.3.0)\n",
      "Requirement already satisfied: requests[socks]>=2.11.1 in /opt/conda/lib/python3.9/site-packages (from tweepy) (2.25.1)\n",
      "Requirement already satisfied: oauthlib>=3.0.0 in /opt/conda/lib/python3.9/site-packages (from requests-oauthlib>=0.7.0->tweepy) (3.0.1)\n",
      "Requirement already satisfied: certifi>=2017.4.17 in /opt/conda/lib/python3.9/site-packages (from requests[socks]>=2.11.1->tweepy) (2020.12.5)\n",
      "Requirement already satisfied: idna<3,>=2.5 in /opt/conda/lib/python3.9/site-packages (from requests[socks]>=2.11.1->tweepy) (2.10)\n",
      "Requirement already satisfied: urllib3<1.27,>=1.21.1 in /opt/conda/lib/python3.9/site-packages (from requests[socks]>=2.11.1->tweepy) (1.26.5)\n",
      "Requirement already satisfied: chardet<5,>=3.0.2 in /opt/conda/lib/python3.9/site-packages (from requests[socks]>=2.11.1->tweepy) (4.0.0)\n",
      "Requirement already satisfied: PySocks!=1.5.7,>=1.5.6 in /opt/conda/lib/python3.9/site-packages (from requests[socks]>=2.11.1->tweepy) (1.7.1)\n"
     ]
    }
   ],
   "source": [
    "!pip install tweepy"
   ]
  },
  {
   "cell_type": "code",
   "execution_count": 3,
   "id": "6d9b0373-e6cd-45e0-b713-75ff7fa905bb",
   "metadata": {},
   "outputs": [],
   "source": [
    "# Loading dotenv\n",
    "%load_ext dotenv"
   ]
  },
  {
   "cell_type": "code",
   "execution_count": 4,
   "id": "d472e66b-1d2f-4098-8e09-c266c90f2e12",
   "metadata": {},
   "outputs": [],
   "source": [
    "%dotenv"
   ]
  },
  {
   "cell_type": "code",
   "execution_count": 5,
   "id": "81f3ad0a-aa06-4265-8f91-48cad2e22c6e",
   "metadata": {},
   "outputs": [],
   "source": [
    "import os\n",
    "import tweepy as tw\n",
    "import pandas as pd\n",
    "import nltk"
   ]
  },
  {
   "cell_type": "code",
   "execution_count": 6,
   "id": "a65841ba-6cf9-47e7-8e46-84e4ccce41ad",
   "metadata": {},
   "outputs": [],
   "source": [
    "# Getting my tokens from enviroment file\n",
    "\n",
    "ACCESS_TOKEN=os.getenv(\"ACCESS_TOKEN\")\n",
    "ACCESS_TOKEN_SECRET=os.getenv(\"ACCESS_TOKEN_SECRET\")\n",
    "CONSUMER_API_KEY=os.getenv(\"CONSUMER_API_KEY\")\n",
    "CONSUMER_API_SECRET=os.getenv(\"CONSUMER_API_SECRET\")"
   ]
  },
  {
   "cell_type": "code",
   "execution_count": 7,
   "id": "ab3ec3c4-c972-4ecc-a7bd-265e992f0063",
   "metadata": {},
   "outputs": [],
   "source": [
    "# Create the API object while passing the auth information\n",
    "\n",
    "auth = tw.OAuthHandler(CONSUMER_API_KEY, CONSUMER_API_SECRET)\n",
    "\n",
    "# Setting your access token and secret\n",
    "\n",
    "auth.set_access_token(ACCESS_TOKEN, ACCESS_TOKEN_SECRET)\n",
    "\n",
    "# Creating API object while passing the auth information\n",
    "\n",
    "api = tw.API(auth)"
   ]
  },
  {
   "cell_type": "code",
   "execution_count": 8,
   "id": "4f4f05b2-73e3-419a-a50a-666bc8f30759",
   "metadata": {},
   "outputs": [],
   "source": [
    "tweets = tw.Cursor(api.search,q='#COVID19)',lang=\"en\").items(10)\n",
    "tweets_data= [[tweet.id, tweet.created_at, tweet.text, tweet.user.screen_name] for tweet in tweets]\n",
    "tweet_text = pd.DataFrame(data=tweets_data,columns=['ID','Timestamp', 'Text', 'user'])"
   ]
  },
  {
   "cell_type": "code",
   "execution_count": 9,
   "id": "8712baf1-da0f-409b-81a7-2c58a868e5c3",
   "metadata": {},
   "outputs": [
    {
     "name": "stdout",
     "output_type": "stream",
     "text": [
      "                    ID           Timestamp                                               Text             user\n",
      "0  1405912180772409347 2021-06-18 15:35:59  RT @WHO: @DrTedros \"The global failure to shar...    sandeepmeetsu\n",
      "1  1405912177219981317 2021-06-18 15:35:58  RT @RochdaleCouncil: 📢 #Covid19 vaccination po...           NHSHMR\n",
      "2  1405912176158597125 2021-06-18 15:35:58  RT @AnisPFI: Why can't this government do a si...   ShaikhWasimIND\n",
      "3  1405912174552289284 2021-06-18 15:35:57  RT @NIHRCRNEastern: Barney 🐶 Senna 🐢 and Misha...  viralvideovlogs\n",
      "4  1405912174149570563 2021-06-18 15:35:57  RT @khaleejtimes: #Covid19: Now, fully vaccina...     sagarsuryan1\n",
      "5  1405912172799172613 2021-06-18 15:35:57  RT @AthaudaDasuni: 🦠❗️ 55 COVID-19 deaths (23 ...  varnasuthan1104\n",
      "6  1405912171268214791 2021-06-18 15:35:56  RT @NIHRCRNEastern: Barney 🐶 Senna 🐢 and Misha...        19saint80\n",
      "7  1405912164896886788 2021-06-18 15:35:55  RT @ANI: Assam reports 3,706 new #COVID19 case...   sanatani_verma\n",
      "8  1405912162137219076 2021-06-18 15:35:54  Here's my latest video update explaining what ...    GerryTaylor12\n",
      "9  1405912161650622473 2021-06-18 15:35:54  RT @edgarsrinkevics: Congratulations, @antonio...     APildegovics\n"
     ]
    }
   ],
   "source": [
    "with pd.option_context('expand_frame_repr', False):\n",
    "    print(tweet_text)"
   ]
  },
  {
   "cell_type": "code",
   "execution_count": 10,
   "id": "5dee920a-1d4c-4db7-a0cb-425f8ba2af94",
   "metadata": {},
   "outputs": [],
   "source": [
    "my_tweets = api.home_timeline()"
   ]
  },
  {
   "cell_type": "code",
   "execution_count": 11,
   "id": "c046c711-0efc-4c52-aad9-571e333d3c55",
   "metadata": {},
   "outputs": [
    {
     "name": "stdout",
     "output_type": "stream",
     "text": [
      "1 1405912180772409347 \n",
      " 2021-06-18 15:35:59 \n",
      " RT @WHO: @DrTedros \"The global failure to share vaccines equitably is fuelling a two-track #COVID19 pandemic that is now taking its toll on… \n",
      " sandeepmeetsu \n",
      "\n",
      "2 1405912177219981317 \n",
      " 2021-06-18 15:35:58 \n",
      " RT @RochdaleCouncil: 📢 #Covid19 vaccination pop-up clinic NEXT WEEK @KYPRochdale. 1st dose for residents aged 40 and over or 2nd if you had… \n",
      " NHSHMR \n",
      "\n",
      "3 1405912176158597125 \n",
      " 2021-06-18 15:35:58 \n",
      " RT @AnisPFI: Why can't this government do a single thing without a clout of suspense..Why everything is so shady.. @BJP4India is only serio… \n",
      " ShaikhWasimIND \n",
      "\n",
      "4 1405912174552289284 \n",
      " 2021-06-18 15:35:57 \n",
      " RT @NIHRCRNEastern: Barney 🐶 Senna 🐢 and Misha 🐶 are all donning red for #red4research day and want to say thank you to all those participa… \n",
      " viralvideovlogs \n",
      "\n",
      "5 1405912174149570563 \n",
      " 2021-06-18 15:35:57 \n",
      " RT @khaleejtimes: #Covid19: Now, fully vaccinated passengers to #Mumbai can skip quarantine\n",
      "\n",
      "India’s leading budget carrier @FlyWithIX twee… \n",
      " sagarsuryan1 \n",
      "\n",
      "6 1405912172799172613 \n",
      " 2021-06-18 15:35:57 \n",
      " RT @AthaudaDasuni: 🦠❗️ 55 COVID-19 deaths (23 females &amp; 32 males) confirmed on Thursday (17) : DG Health Services\n",
      "\n",
      "#SriLanka #lka #News1st… \n",
      " varnasuthan1104 \n",
      "\n",
      "7 1405912171268214791 \n",
      " 2021-06-18 15:35:56 \n",
      " RT @NIHRCRNEastern: Barney 🐶 Senna 🐢 and Misha 🐶 are all donning red for #red4research day and want to say thank you to all those participa… \n",
      " 19saint80 \n",
      "\n",
      "8 1405912164896886788 \n",
      " 2021-06-18 15:35:55 \n",
      " RT @ANI: Assam reports 3,706 new #COVID19 cases, 4,835 recoveries, and 33 deaths in the last 24 hours; active cases at 35,631 https://t.co/… \n",
      " sanatani_verma \n",
      "\n",
      "9 1405912162137219076 \n",
      " 2021-06-18 15:35:54 \n",
      " Here's my latest video update explaining what this week's announcement means for us in #Sunderland #PublicHealth… https://t.co/yXp6VBFAP5 \n",
      " GerryTaylor12 \n",
      "\n",
      "10 1405912161650622473 \n",
      " 2021-06-18 15:35:54 \n",
      " RT @edgarsrinkevics: Congratulations, @antonioguterres, on your reappointment as @UN Secretary General. Full support to your efforts to wor… \n",
      " APildegovics \n",
      "\n"
     ]
    }
   ],
   "source": [
    "count=1\n",
    "#Printing the tweets posted by diffrent users for the keyword: #Altcoin\n",
    "for index, row in tweet_text.iterrows():\n",
    "    st=(row['Text'])\n",
    "    print(count, row['ID'],\"\\n\",row['Timestamp'],\"\\n\",row['Text'],\"\\n\",row['user'],\"\\n\")\n",
    "    count +=1"
   ]
  },
  {
   "cell_type": "markdown",
   "id": "47cbad9b-363e-43d8-afb3-535a3d5e8326",
   "metadata": {},
   "source": [
    "# Performing some basic NLP on a Single tweet\n",
    "\n",
    "## To lower"
   ]
  },
  {
   "cell_type": "markdown",
   "id": "6f4a7f79-e4d6-42ed-8bec-8b6ade215c65",
   "metadata": {},
   "source": [
    "## Before\n"
   ]
  },
  {
   "cell_type": "code",
   "execution_count": 12,
   "id": "58ab04ef-0a46-4429-8d52-a5fd6bbc2e0a",
   "metadata": {},
   "outputs": [
    {
     "name": "stdout",
     "output_type": "stream",
     "text": [
      "RT @edgarsrinkevics: Congratulations, @antonioguterres, on your reappointment as @UN Secretary General. Full support to your efforts to wor…\n"
     ]
    }
   ],
   "source": [
    "print(st)"
   ]
  },
  {
   "cell_type": "markdown",
   "id": "ac4517e4-afd1-4d95-b4d0-03c53f5107d1",
   "metadata": {},
   "source": [
    "## After"
   ]
  },
  {
   "cell_type": "code",
   "execution_count": 13,
   "id": "5b808c3d-cc87-4b93-b48a-a271061e4b0f",
   "metadata": {},
   "outputs": [
    {
     "name": "stdout",
     "output_type": "stream",
     "text": [
      "rt @edgarsrinkevics: congratulations, @antonioguterres, on your reappointment as @un secretary general. full support to your efforts to wor…\n"
     ]
    }
   ],
   "source": [
    "st_l = st.lower()\n",
    "print(st_l)"
   ]
  },
  {
   "cell_type": "markdown",
   "id": "8d33834b-6e95-4903-8387-a1ccb39643cd",
   "metadata": {},
   "source": [
    "## Tokenize"
   ]
  },
  {
   "cell_type": "code",
   "execution_count": 14,
   "id": "aed96cc8-5a03-46d6-834c-a4abc3c7e90f",
   "metadata": {},
   "outputs": [],
   "source": [
    "from nltk.tokenize import word_tokenize"
   ]
  },
  {
   "cell_type": "code",
   "execution_count": 15,
   "id": "35ab8d3c-757f-400a-aedc-e9a0be88bea5",
   "metadata": {},
   "outputs": [],
   "source": [
    "st_l_token = word_tokenize(st_l)"
   ]
  },
  {
   "cell_type": "code",
   "execution_count": 16,
   "id": "0522d554-6c28-4722-81b7-dda2e7ebffe4",
   "metadata": {},
   "outputs": [
    {
     "data": {
      "text/plain": [
       "['rt',\n",
       " '@',\n",
       " 'edgarsrinkevics',\n",
       " ':',\n",
       " 'congratulations',\n",
       " ',',\n",
       " '@',\n",
       " 'antonioguterres',\n",
       " ',',\n",
       " 'on',\n",
       " 'your',\n",
       " 'reappointment',\n",
       " 'as',\n",
       " '@',\n",
       " 'un',\n",
       " 'secretary',\n",
       " 'general',\n",
       " '.',\n",
       " 'full',\n",
       " 'support',\n",
       " 'to',\n",
       " 'your',\n",
       " 'efforts',\n",
       " 'to',\n",
       " 'wor…']"
      ]
     },
     "execution_count": 16,
     "metadata": {},
     "output_type": "execute_result"
    }
   ],
   "source": [
    "st_l_token"
   ]
  },
  {
   "cell_type": "code",
   "execution_count": null,
   "id": "685153de-94e5-4129-ba8f-09a6054058e9",
   "metadata": {},
   "outputs": [],
   "source": []
  }
 ],
 "metadata": {
  "kernelspec": {
   "display_name": "Python 3",
   "language": "python",
   "name": "python3"
  },
  "language_info": {
   "codemirror_mode": {
    "name": "ipython",
    "version": 3
   },
   "file_extension": ".py",
   "mimetype": "text/x-python",
   "name": "python",
   "nbconvert_exporter": "python",
   "pygments_lexer": "ipython3",
   "version": "3.9.2"
  }
 },
 "nbformat": 4,
 "nbformat_minor": 5
}
