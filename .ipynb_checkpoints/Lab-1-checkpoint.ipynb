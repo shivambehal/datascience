{
 "cells": [
  {
   "cell_type": "markdown",
   "id": "64f04ddf-f7a5-4d90-b478-7ee16139a1bc",
   "metadata": {},
   "source": [
    "# Twitter Analytics"
   ]
  },
  {
   "cell_type": "code",
   "execution_count": 45,
   "id": "fe1f5731-47a8-42d8-a0ea-3aa2fb03d1e5",
   "metadata": {},
   "outputs": [
    {
     "name": "stdout",
     "output_type": "stream",
     "text": [
      "Requirement already satisfied: python-dotenv in /opt/conda/lib/python3.9/site-packages (0.17.1)\n"
     ]
    }
   ],
   "source": [
    "!pip install python-dotenv"
   ]
  },
  {
   "cell_type": "code",
   "execution_count": 46,
   "id": "0b1de7f1-6b9d-49ac-8db5-d08e8e325ea9",
   "metadata": {},
   "outputs": [
    {
     "name": "stdout",
     "output_type": "stream",
     "text": [
      "Requirement already satisfied: tweepy in /opt/conda/lib/python3.9/site-packages (3.10.0)\n",
      "Requirement already satisfied: requests[socks]>=2.11.1 in /opt/conda/lib/python3.9/site-packages (from tweepy) (2.25.1)\n",
      "Requirement already satisfied: requests-oauthlib>=0.7.0 in /opt/conda/lib/python3.9/site-packages (from tweepy) (1.3.0)\n",
      "Requirement already satisfied: six>=1.10.0 in /opt/conda/lib/python3.9/site-packages (from tweepy) (1.16.0)\n",
      "Requirement already satisfied: oauthlib>=3.0.0 in /opt/conda/lib/python3.9/site-packages (from requests-oauthlib>=0.7.0->tweepy) (3.0.1)\n",
      "Requirement already satisfied: certifi>=2017.4.17 in /opt/conda/lib/python3.9/site-packages (from requests[socks]>=2.11.1->tweepy) (2020.12.5)\n",
      "Requirement already satisfied: urllib3<1.27,>=1.21.1 in /opt/conda/lib/python3.9/site-packages (from requests[socks]>=2.11.1->tweepy) (1.26.5)\n",
      "Requirement already satisfied: chardet<5,>=3.0.2 in /opt/conda/lib/python3.9/site-packages (from requests[socks]>=2.11.1->tweepy) (4.0.0)\n",
      "Requirement already satisfied: idna<3,>=2.5 in /opt/conda/lib/python3.9/site-packages (from requests[socks]>=2.11.1->tweepy) (2.10)\n",
      "Requirement already satisfied: PySocks!=1.5.7,>=1.5.6 in /opt/conda/lib/python3.9/site-packages (from requests[socks]>=2.11.1->tweepy) (1.7.1)\n"
     ]
    }
   ],
   "source": [
    "!pip install tweepy"
   ]
  },
  {
   "cell_type": "code",
   "execution_count": 47,
   "id": "89cf9427-0049-4371-a3c0-ddd07578a387",
   "metadata": {},
   "outputs": [
    {
     "name": "stdout",
     "output_type": "stream",
     "text": [
      "The dotenv extension is already loaded. To reload it, use:\n",
      "  %reload_ext dotenv\n"
     ]
    }
   ],
   "source": [
    "%load_ext dotenv"
   ]
  },
  {
   "cell_type": "code",
   "execution_count": 48,
   "id": "7f3dc937-e249-4ec5-b19d-b841f4b6c936",
   "metadata": {},
   "outputs": [],
   "source": [
    "%dotenv"
   ]
  },
  {
   "cell_type": "code",
   "execution_count": 49,
   "id": "8333999c-016e-4108-ad3a-35b48110b07f",
   "metadata": {},
   "outputs": [],
   "source": [
    "import os\n",
    "import tweepy as tw"
   ]
  },
  {
   "cell_type": "code",
   "execution_count": 50,
   "id": "0e1a6a09-61b1-48f2-a5d1-208835a21090",
   "metadata": {},
   "outputs": [],
   "source": [
    "ACCESS_TOKEN=os.getenv(\"ACCESS_TOKEN\")\n",
    "ACCESS_TOKEN_SECRET=os.getenv(\"ACCESS_TOKEN_SECRET\")\n",
    "CONSUMER_API_KEY=os.getenv(\"CONSUMER_API_KEY\")\n",
    "CONSUMER_API_SECRET=os.getenv(\"CONSUMER_API_SECRET\")"
   ]
  },
  {
   "cell_type": "code",
   "execution_count": 51,
   "id": "9a816d74-5574-4275-b317-036f3ca01c32",
   "metadata": {},
   "outputs": [],
   "source": [
    "# Create the API object while passing the auth information\n",
    "\n",
    "auth = tw.OAuthHandler(CONSUMER_API_KEY, CONSUMER_API_SECRET)\n",
    "\n",
    "# Setting your access token and secret\n",
    "\n",
    "auth.set_access_token(ACCESS_TOKEN, ACCESS_TOKEN_SECRET)\n",
    "\n",
    "# Creating API object while passing the auth information\n",
    "\n",
    "api = tw.API(auth)"
   ]
  },
  {
   "cell_type": "code",
   "execution_count": 52,
   "id": "55d3a0f2-3636-4960-a051-bf884225ca44",
   "metadata": {},
   "outputs": [],
   "source": [
    "my_tweets = api.home_timeline()"
   ]
  },
  {
   "cell_type": "code",
   "execution_count": 53,
   "id": "effdda1e-5719-43ee-a1be-22bcf30ab707",
   "metadata": {},
   "outputs": [
    {
     "name": "stdout",
     "output_type": "stream",
     "text": [
      "\n",
      " 1 2021-06-18 14:56:21 \n",
      " ICC \n",
      " Dubai \n",
      " Shafali Verma's sensational Test debut keeps on getting better ✨\n",
      "\n",
      "The opener scores her second half-century of the… https://t.co/fZBzFitjQN\n",
      "\n",
      " 2 2021-06-18 14:37:11 \n",
      " BCCI \n",
      " India \n",
      " When rain didn't stop play 😉\n",
      "\n",
      "#TeamIndia members enjoyed a game of dart on the sidelines during the rain break in S… https://t.co/jwsFG2UEMC\n",
      "\n",
      " 3 2021-06-18 14:36:10 \n",
      " GovCanHealth \n",
      " Canada \n",
      " RT @GCIndigenous: Knowledge Keeper Robert Maytwayashing from @TurtleLodge talks about his experience getting vaccinated. #COVID19 https://t…\n",
      "\n",
      " 4 2021-06-18 14:24:01 \n",
      " ICC \n",
      " Dubai \n",
      " ☔\n",
      "\n",
      "OPPO Shot of the Day 📸\n",
      "\n",
      "@OPPOIndia | #WTC21 | #INDvNZ https://t.co/NOJiUGVHxh\n",
      "\n",
      " 5 2021-06-18 14:08:50 \n",
      " ICC \n",
      " Dubai \n",
      " West Indies have won the toss and they have elected to bowl in the second #WIvSA Test.\n",
      "\n",
      "https://t.co/aJHpJqkFeL\n",
      "\n",
      " 6 2021-06-18 14:01:57 \n",
      " marcomendicino \n",
      " Toronto \n",
      " À l'occasion de la #journeemondialedesrefugies 2021, j'annoncerai de nouvelles initiatives pour aider le 🇨🇦 à venir… https://t.co/GiDQlEBd81\n",
      "\n",
      " 7 2021-06-18 13:55:06 \n",
      " PublicHealthON \n",
      " Toronto, ON \n",
      " PHO leads provincial vaccine safety surveillance including analysis and reporting on adverse effects, participating… https://t.co/wNRn25dNQM\n",
      "\n",
      " 8 2021-06-18 13:54:25 \n",
      " marcomendicino \n",
      " Toronto \n",
      " As we mark World Refugee Day 2021, I will announce new initiatives to help 🇨🇦 assist even more refugees, this after… https://t.co/H6IMlboZNf\n",
      "\n",
      " 9 2021-06-18 13:54:11 \n",
      " PunjabKingsIPL \n",
      " Punjab, India \n",
      " Day 1 of #WTCFinal has been washed out ☹️\n",
      "\n",
      "Let’s hope the rain gods show some mercy tomorrow 🤞\n",
      "\n",
      "#INDvNZ… https://t.co/n1RFts8vFr\n",
      "\n",
      " 10 2021-06-18 13:52:02 \n",
      " ICC \n",
      " Dubai \n",
      " Due to persistent rain, play has been abandoned on day one of the #WTC21 Final in Southampton ⛈️\n",
      "\n",
      "#INDvNZ https://t.co/Vzi8hdUBz8\n",
      "\n",
      " 11 2021-06-18 13:50:06 \n",
      " PublicHealthON \n",
      " Toronto, ON \n",
      " SPO dirige la surveillance provinciale de l’innocuité des vaccins : elle analyse et déclare les manifestations clin… https://t.co/3fPNNcP8KC\n",
      "\n",
      " 12 2021-06-18 13:46:07 \n",
      " BCCI \n",
      " India \n",
      " UPDATE - Unfortunately, play on Day 1 has been called off due to rains. 10.30 AM local time start tomorrow.\n",
      "\n",
      "#WTC21\n",
      "\n",
      " 13 2021-06-18 13:22:07 \n",
      " GovCanHealth \n",
      " Canada \n",
      " RT @CPHO_Canada: Today’s #COVID19 #Epidemiology in Canada Daily Update: https://t.co/2586g1O35R https://t.co/f7qzb8joPj\n",
      "\n",
      " 14 2021-06-18 13:14:36 \n",
      " GovCanHealth \n",
      " Canada \n",
      " RT @CPHO_Canada: Today’s #COVID19 in Canada info and updates:\n",
      "➡️#GOC website on #coronavirus disease: \n",
      "https://t.co/8kWHvr0h7S https://t.co…\n",
      "\n",
      " 15 2021-06-18 13:14:20 \n",
      " PunjabKingsIPL \n",
      " Punjab, India \n",
      " 🙇‍♂️⏳ https://t.co/Jwdvy6GLYR\n",
      "\n",
      " 16 2021-06-18 13:04:56 \n",
      " BCCI \n",
      " India \n",
      " UPDATE - It has stopped raining and there will be an inspection at 3 PM local and 7.30 PM IST. \n",
      "\n",
      "#WTC21 https://t.co/VzzuXxGPrF\n",
      "\n",
      " 17 2021-06-18 13:00:00 \n",
      " ICC \n",
      " Dubai \n",
      " \"What makes a Test cricketer in India very special is the ability to handle pressure.\" 👀\n",
      "\n",
      "Find out how the India pl… https://t.co/VEhul7MiPM\n",
      "\n",
      " 18 2021-06-18 12:30:08 \n",
      " ICC \n",
      " Dubai \n",
      " Who are you rooting for in the #WTC21 Final? 🇮🇳🇳🇿\n",
      "\n",
      "Get the exclusive merchandise to show your support now!\n",
      "\n",
      "Shop ➡️… https://t.co/adUxNoIUXD\n",
      "\n",
      " 19 2021-06-18 12:18:20 \n",
      " ICC \n",
      " Dubai \n",
      " Dinesh Karthik had a go at our @MRFWorldwide ICC World Test Championship 2021 Quiz, but have you? \n",
      "\n",
      "Click below to… https://t.co/7veGoGvXRT\n"
     ]
    }
   ],
   "source": [
    "# Check all tweets pulled\n",
    "count=1\n",
    "for tweet in my_tweets:\n",
    "    print(\"\\n\", count,tweet.created_at, \"\\n\", tweet.user.screen_name, \"\\n\", tweet.user.location, \"\\n\", tweet.text)\n",
    "    count +=1\n"
   ]
  },
  {
   "cell_type": "code",
   "execution_count": null,
   "id": "4b716e0e-d362-4f3f-9c32-eb04f4d5f660",
   "metadata": {},
   "outputs": [],
   "source": []
  }
 ],
 "metadata": {
  "kernelspec": {
   "display_name": "Python 3",
   "language": "python",
   "name": "python3"
  },
  "language_info": {
   "codemirror_mode": {
    "name": "ipython",
    "version": 3
   },
   "file_extension": ".py",
   "mimetype": "text/x-python",
   "name": "python",
   "nbconvert_exporter": "python",
   "pygments_lexer": "ipython3",
   "version": "3.9.2"
  }
 },
 "nbformat": 4,
 "nbformat_minor": 5
}
