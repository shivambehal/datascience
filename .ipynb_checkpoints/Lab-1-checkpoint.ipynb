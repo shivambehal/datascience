{
 "cells": [
  {
   "cell_type": "markdown",
   "id": "64f04ddf-f7a5-4d90-b478-7ee16139a1bc",
   "metadata": {},
   "source": [
    "# Twitter Analytics"
   ]
  },
  {
   "cell_type": "code",
   "execution_count": null,
   "id": "fe1f5731-47a8-42d8-a0ea-3aa2fb03d1e5",
   "metadata": {},
   "outputs": [],
   "source": [
    "!pip install python-dotenv"
   ]
  },
  {
   "cell_type": "code",
   "execution_count": null,
   "id": "0b1de7f1-6b9d-49ac-8db5-d08e8e325ea9",
   "metadata": {},
   "outputs": [],
   "source": [
    "!pip install tweepy"
   ]
  },
  {
   "cell_type": "code",
   "execution_count": 2,
   "id": "89cf9427-0049-4371-a3c0-ddd07578a387",
   "metadata": {},
   "outputs": [],
   "source": [
    "%load_ext dotenv"
   ]
  },
  {
   "cell_type": "code",
   "execution_count": 3,
   "id": "7f3dc937-e249-4ec5-b19d-b841f4b6c936",
   "metadata": {},
   "outputs": [],
   "source": [
    "%dotenv"
   ]
  },
  {
   "cell_type": "code",
   "execution_count": 4,
   "id": "8333999c-016e-4108-ad3a-35b48110b07f",
   "metadata": {},
   "outputs": [],
   "source": [
    "import os\n",
    "import tweepy as tw"
   ]
  },
  {
   "cell_type": "code",
   "execution_count": 5,
   "id": "0e1a6a09-61b1-48f2-a5d1-208835a21090",
   "metadata": {},
   "outputs": [],
   "source": [
    "ACCESS_TOKEN=os.getenv(\"ACCESS_TOKEN\")\n",
    "ACCESS_TOKEN_SECRET=os.getenv(\"ACCESS_TOKEN_SECRET\")\n",
    "CONSUMER_API_KEY=os.getenv(\"CONSUMER_API_KEY\")\n",
    "CONSUMER_API_SECRET=os.getenv(\"CONSUMER_API_SECRET\")"
   ]
  },
  {
   "cell_type": "code",
   "execution_count": 6,
   "id": "9a816d74-5574-4275-b317-036f3ca01c32",
   "metadata": {},
   "outputs": [],
   "source": [
    "# Create the API object while passing the auth information\n",
    "\n",
    "auth = tw.OAuthHandler(CONSUMER_API_KEY, CONSUMER_API_SECRET)\n",
    "\n",
    "# Setting your access token and secret\n",
    "\n",
    "auth.set_access_token(ACCESS_TOKEN, ACCESS_TOKEN_SECRET)\n",
    "\n",
    "# Creating API object while passing the auth information\n",
    "\n",
    "api = tw.API(auth)"
   ]
  },
  {
   "cell_type": "code",
   "execution_count": 7,
   "id": "2449fc6c-a982-4cea-91aa-adf9fb37141b",
   "metadata": {},
   "outputs": [],
   "source": [
    "my_tweets = api.home_timeline()"
   ]
  },
  {
   "cell_type": "code",
   "execution_count": 8,
   "id": "effdda1e-5719-43ee-a1be-22bcf30ab707",
   "metadata": {},
   "outputs": [
    {
     "name": "stdout",
     "output_type": "stream",
     "text": [
      "\n",
      " 1 2021-06-01 16:06:10 \n",
      " GovCanHealth \n",
      " Canada \n",
      " (3/3) If you received a first dose of the AstraZeneca (COVISHIELD) #CovidVaccine, NACI recommends that you receive… https://t.co/ETjnoxfoUr\n",
      "\n",
      " 2 2021-06-01 16:03:57 \n",
      " GovCanHealth \n",
      " Canada \n",
      " LIVE: Federal health officials provide an update on COVID-19 vaccine interchangeability https://t.co/WESmXPVmiY\n",
      "\n",
      " 3 2021-06-01 16:03:03 \n",
      " GovCanHealth \n",
      " Canada \n",
      " (2/3) Completing your vaccine series by getting your second dose is important to achieve optimal and longer-lasting… https://t.co/esyD1iL6Fm\n",
      "\n",
      " 4 2021-06-01 16:01:25 \n",
      " marcomendicino \n",
      " Toronto \n",
      " ...250 000 $ aux propriétaires d'entreprises et aux entrepreneurs noirs afin qu'ils puissent faire croître leur ent… https://t.co/XI6WfZkp9R\n",
      "\n",
      " 5 2021-06-01 16:01:24 \n",
      " marcomendicino \n",
      " Toronto \n",
      " Hier, la ministre @mary_ng a annoncé que le Fonds de prêts pour l’entrepreneuriat des communautés noires allait com… https://t.co/82XerrVPRV\n",
      "\n",
      " 6 2021-06-01 16:01:17 \n",
      " GovCanHealth \n",
      " Canada \n",
      " (1/3) The National Advisory Committee on Immunization (NACI) has updated its recommendations on the interchangeabil… https://t.co/HMmyP7p5LV\n",
      "\n",
      " 7 2021-06-01 15:50:36 \n",
      " marcomendicino \n",
      " Toronto \n",
      " ...and entrepreneurs so they can grow their businesses and succeed now and into the future. https://t.co/4GiQ77J1Xj https://t.co/R7E4yh0DlD\n",
      "\n",
      " 8 2021-06-01 15:50:11 \n",
      " marcomendicino \n",
      " Toronto \n",
      " Yesterday, Minister @mary_ng  announced that the Black Entrepreneurship Loan Fund will now begin accepting applicat… https://t.co/yGyZvaeIay\n",
      "\n",
      " 9 2021-06-01 15:42:36 \n",
      " ICC \n",
      " Dubai \n",
      " ICC announces expansion of global events. \n",
      "\n",
      "Details 👇\n",
      "\n",
      "https://t.co/q58H2CYzRK\n",
      "\n",
      " 10 2021-06-01 15:11:17 \n",
      " PublicHealthON \n",
      " Toronto, ON \n",
      " RT @OLTCAnews: Happy #Pride! 🏳️‍🌈\n",
      "\n",
      "OLTCA celebrates the diversity of residents and staff in long-term care homes and commits to its advocac…\n",
      "\n",
      " 11 2021-06-01 14:45:34 \n",
      " PublicHealthON \n",
      " Toronto, ON \n",
      " Learn more about the circumstances of opioid-related deaths during #COVID19 in our new report with @ODPRN_Research… https://t.co/wX6SJfx5pk\n",
      "\n",
      " 12 2021-06-01 14:30:17 \n",
      " ICC \n",
      " Dubai \n",
      " One of the greatest English fast bowlers of all time, we honour the achievements of Brian Statham on #ICCHallOfFame… https://t.co/rkMlDxhzcD\n",
      "\n",
      " 13 2021-06-01 13:30:01 \n",
      " ICC \n",
      " Dubai \n",
      " \"He was flamboyant, he was beautiful to watch, one of the greats of the game of all time.\" \n",
      "\n",
      "Celebrating West Indie… https://t.co/gh48fdBinL\n",
      "\n",
      " 14 2021-06-01 13:23:07 \n",
      " GovCanHealth \n",
      " Canada \n",
      " RT @CPHO_Canada: Today’s #COVID19 #Epidemiology in Canada Daily Update: https://t.co/2586g1O35R https://t.co/dlICN336XC\n",
      "\n",
      " 15 2021-06-01 13:03:31 \n",
      " GovCanHealth \n",
      " Canada \n",
      " RT @CPHO_Canada: Today’s #COVID19 in Canada info and updates:\n",
      "➡️#GOC website on #coronavirus disease: \n",
      "https://t.co/8kWHvr0h7S https://t.co…\n",
      "\n",
      " 16 2021-06-01 13:01:26 \n",
      " GovCanHealth \n",
      " Canada \n",
      " Do you have products with #SandalwoodOil in your cabinets? Certain self-care products with this oil, such as body l… https://t.co/TU4hBlyVPq\n",
      "\n",
      " 17 2021-06-01 12:30:08 \n",
      " ICC \n",
      " Dubai \n",
      " Happy birthday to Dinesh Karthik!\n",
      "\n",
      "He powered India to an unforgettable last-ball victory in the 2018 Nidahas Troph… https://t.co/P0pZbwR0xB\n"
     ]
    }
   ],
   "source": [
    "# Check all tweets pulled\n",
    "count=1\n",
    "for tweet in my_tweets:\n",
    "    print(\"\\n\", count,tweet.created_at, \"\\n\", tweet.user.screen_name, \"\\n\", tweet.user.location, \"\\n\", tweet.text)\n",
    "    count +=1\n"
   ]
  },
  {
   "cell_type": "code",
   "execution_count": null,
   "id": "9b276a1c-11f4-4c3d-96c8-71e0da4367b6",
   "metadata": {},
   "outputs": [],
   "source": []
  }
 ],
 "metadata": {
  "kernelspec": {
   "display_name": "Python 3",
   "language": "python",
   "name": "python3"
  },
  "language_info": {
   "codemirror_mode": {
    "name": "ipython",
    "version": 3
   },
   "file_extension": ".py",
   "mimetype": "text/x-python",
   "name": "python",
   "nbconvert_exporter": "python",
   "pygments_lexer": "ipython3",
   "version": "3.9.2"
  }
 },
 "nbformat": 4,
 "nbformat_minor": 5
}
