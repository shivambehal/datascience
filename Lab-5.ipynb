{
 "cells": [
  {
   "cell_type": "code",
   "execution_count": 36,
   "id": "60be13bb-e199-41e5-bd04-5a934d861861",
   "metadata": {},
   "outputs": [],
   "source": [
    "import nltk\n",
    "from nltk.tokenize import word_tokenize\n",
    "from sklearn.feature_extraction.text import TfidfVectorizer\n",
    "from sklearn.metrics.pairwise import cosine_similarity"
   ]
  },
  {
   "cell_type": "code",
   "execution_count": 37,
   "id": "98800663-e713-48dd-8981-32b949af0372",
   "metadata": {},
   "outputs": [],
   "source": [
    "# Getting vector from text using TfIdf\n",
    "def get_vector(*str):\n",
    "    texts = [t for t in str]\n",
    "    print(texts)\n",
    "    my_Tfidf_Vectorizer = TfidfVectorizer()\n",
    "    my_Tfidf_Vectorizer.fit(texts)\n",
    "    \n",
    "    print(my_Tfidf_Vectorizer)\n",
    "    \n",
    "    return my_Tfidf_Vectorizer.transform(texts).toarray()\n",
    "\n",
    "def get_cosign_sim(received_vector):\n",
    "    return cosine_similarity(received_vector)\n",
    "    "
   ]
  },
  {
   "cell_type": "code",
   "execution_count": 38,
   "id": "7423bf94-22a0-4381-a0f6-e3db1128a832",
   "metadata": {},
   "outputs": [],
   "source": [
    "# Data\n",
    "myText_1 = \"He is a good athlete\"\n",
    "myText_2 = \"She is a good painter\"\n",
    "myText_3 = \"He and she both are good athlete and painter\"\n",
    "myText_4 = \"He is a nice boy\"\n",
    "myText_5 = \"She is a nice girl\"\n",
    "myText_6 = \"He and she both are nice boy and girl\""
   ]
  },
  {
   "cell_type": "code",
   "execution_count": 39,
   "id": "60ef1a0e-a735-4e9d-a1ec-21b0a4ae402a",
   "metadata": {},
   "outputs": [
    {
     "name": "stdout",
     "output_type": "stream",
     "text": [
      "['He is a good athlete', 'She is a good painter', 'He and she both are good athlete and painter', 'He is a nice boy', 'She is a nice girl']\n",
      "TfidfVectorizer()\n"
     ]
    },
    {
     "data": {
      "text/plain": [
       "array([[0.        , 0.        , 0.59072194, 0.        , 0.        ,\n",
       "        0.        , 0.49035258, 0.49035258, 0.41250005, 0.        ,\n",
       "        0.        , 0.        ],\n",
       "       [0.        , 0.        , 0.        , 0.        , 0.        ,\n",
       "        0.        , 0.49035258, 0.        , 0.41250005, 0.        ,\n",
       "        0.59072194, 0.49035258],\n",
       "       [0.68012368, 0.34006184, 0.27435975, 0.34006184, 0.        ,\n",
       "        0.        , 0.22774338, 0.22774338, 0.        , 0.        ,\n",
       "        0.27435975, 0.22774338],\n",
       "       [0.        , 0.        , 0.        , 0.        , 0.64324583,\n",
       "        0.        , 0.        , 0.43078923, 0.36239348, 0.51896668,\n",
       "        0.        , 0.        ],\n",
       "       [0.        , 0.        , 0.        , 0.        , 0.        ,\n",
       "        0.64324583, 0.        , 0.        , 0.36239348, 0.51896668,\n",
       "        0.        , 0.43078923]])"
      ]
     },
     "execution_count": 39,
     "metadata": {},
     "output_type": "execute_result"
    }
   ],
   "source": [
    "# Get text to vectores\n",
    "vector = get_vector(myText_1,myText_2,myText_3,myText_4,myText_5, myText_6)\n",
    "vector"
   ]
  },
  {
   "cell_type": "code",
   "execution_count": 40,
   "id": "70609f79-36a7-482f-91f2-89802f55f170",
   "metadata": {},
   "outputs": [
    {
     "data": {
      "text/plain": [
       "array([[1.        , 0.41060194, 0.38541943, 0.36072593, 0.14948733],\n",
       "       [0.41060194, 1.        , 0.38541943, 0.14948733, 0.36072593],\n",
       "       [0.38541943, 0.38541943, 1.        , 0.09810939, 0.09810939],\n",
       "       [0.36072593, 0.14948733, 0.09810939, 1.        , 0.40065545],\n",
       "       [0.14948733, 0.36072593, 0.09810939, 0.40065545, 1.        ]])"
      ]
     },
     "execution_count": 40,
     "metadata": {},
     "output_type": "execute_result"
    }
   ],
   "source": [
    "# Checking the similarities\n",
    "similarity = get_cosign_sim(vector)\n",
    "similarity"
   ]
  },
  {
   "cell_type": "code",
   "execution_count": null,
   "id": "d54562e4-3ea1-49db-b3a9-68de941267a4",
   "metadata": {},
   "outputs": [],
   "source": []
  }
 ],
 "metadata": {
  "kernelspec": {
   "display_name": "Python 3",
   "language": "python",
   "name": "python3"
  },
  "language_info": {
   "codemirror_mode": {
    "name": "ipython",
    "version": 3
   },
   "file_extension": ".py",
   "mimetype": "text/x-python",
   "name": "python",
   "nbconvert_exporter": "python",
   "pygments_lexer": "ipython3",
   "version": "3.9.2"
  }
 },
 "nbformat": 4,
 "nbformat_minor": 5
}
