{
 "cells": [
  {
   "cell_type": "code",
   "execution_count": 1,
   "id": "e8ae13f9-bc6f-49f6-a64b-ae4607e41898",
   "metadata": {},
   "outputs": [
    {
     "name": "stdout",
     "output_type": "stream",
     "text": [
      "Hello World!\n"
     ]
    }
   ],
   "source": [
    "print(\"Hello World!\")"
   ]
  },
  {
   "cell_type": "markdown",
   "id": "043bb3a1-7ab7-47ec-954d-a76d9b709d83",
   "metadata": {},
   "source": [
    "Single _underscore_ for italics"
   ]
  },
  {
   "cell_type": "code",
   "execution_count": 7,
   "id": "6ce8035c-9846-4018-b8fc-d244206a81bc",
   "metadata": {},
   "outputs": [
    {
     "name": "stdout",
     "output_type": "stream",
     "text": [
      "Hello World!\n"
     ]
    }
   ],
   "source": [
    "print(\"Hello World!\")"
   ]
  },
  {
   "cell_type": "markdown",
   "id": "e2b66cbc-9246-49ee-82d4-2b42d8af0f4e",
   "metadata": {},
   "source": [
    "__Shivam__"
   ]
  },
  {
   "cell_type": "markdown",
   "id": "64f04ddf-f7a5-4d90-b478-7ee16139a1bc",
   "metadata": {},
   "source": []
  }
 ],
 "metadata": {
  "kernelspec": {
   "display_name": "Python 3",
   "language": "python",
   "name": "python3"
  },
  "language_info": {
   "codemirror_mode": {
    "name": "ipython",
    "version": 3
   },
   "file_extension": ".py",
   "mimetype": "text/x-python",
   "name": "python",
   "nbconvert_exporter": "python",
   "pygments_lexer": "ipython3",
   "version": "3.9.2"
  }
 },
 "nbformat": 4,
 "nbformat_minor": 5
}
