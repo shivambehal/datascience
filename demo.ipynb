{
 "cells": [
  {
   "cell_type": "markdown",
   "id": "64f04ddf-f7a5-4d90-b478-7ee16139a1bc",
   "metadata": {},
   "source": [
    "# Twitter Analytics"
   ]
  },
  {
   "cell_type": "code",
   "execution_count": null,
   "id": "fe1f5731-47a8-42d8-a0ea-3aa2fb03d1e5",
   "metadata": {},
   "outputs": [],
   "source": [
    "!pip install python-dotenv"
   ]
  },
  {
   "cell_type": "code",
   "execution_count": null,
   "id": "0b1de7f1-6b9d-49ac-8db5-d08e8e325ea9",
   "metadata": {},
   "outputs": [],
   "source": [
    "!pip install tweepy"
   ]
  },
  {
   "cell_type": "code",
   "execution_count": 6,
   "id": "89cf9427-0049-4371-a3c0-ddd07578a387",
   "metadata": {},
   "outputs": [],
   "source": [
    "%load_ext dotenv"
   ]
  },
  {
   "cell_type": "code",
   "execution_count": 7,
   "id": "7f3dc937-e249-4ec5-b19d-b841f4b6c936",
   "metadata": {},
   "outputs": [],
   "source": [
    "%dotenv"
   ]
  },
  {
   "cell_type": "code",
   "execution_count": 8,
   "id": "8333999c-016e-4108-ad3a-35b48110b07f",
   "metadata": {},
   "outputs": [],
   "source": [
    "import os\n",
    "import tweepy as tw"
   ]
  },
  {
   "cell_type": "code",
   "execution_count": 9,
   "id": "0e1a6a09-61b1-48f2-a5d1-208835a21090",
   "metadata": {},
   "outputs": [],
   "source": [
    "ACCESS_TOKEN=os.getenv(\"ACCESS_TOKEN\")\n",
    "ACCESS_TOKEN_SECRET=os.getenv(\"ACCESS_TOKEN_SECRET\")\n",
    "CONSUMER_API_KEY=os.getenv(\"CONSUMER_API_KEY\")\n",
    "CONSUMER_API_SECRET=os.getenv(\"CONSUMER_API_SECRET\")"
   ]
  },
  {
   "cell_type": "code",
   "execution_count": 10,
   "id": "9a816d74-5574-4275-b317-036f3ca01c32",
   "metadata": {},
   "outputs": [],
   "source": [
    "# Create the API object while passing the auth information\n",
    "\n",
    "auth = tw.OAuthHandler(CONSUMER_API_KEY, CONSUMER_API_SECRET)\n",
    "\n",
    "# Setting your access token and secret\n",
    "\n",
    "auth.set_access_token(ACCESS_TOKEN, ACCESS_TOKEN_SECRET)\n",
    "\n",
    "# Creating API object while passing the auth information\n",
    "\n",
    "api = tw.API(auth)"
   ]
  },
  {
   "cell_type": "code",
   "execution_count": 11,
   "id": "2449fc6c-a982-4cea-91aa-adf9fb37141b",
   "metadata": {},
   "outputs": [],
   "source": [
    "my_tweets = api.home_timeline()"
   ]
  },
  {
   "cell_type": "code",
   "execution_count": 12,
   "id": "effdda1e-5719-43ee-a1be-22bcf30ab707",
   "metadata": {},
   "outputs": [
    {
     "name": "stdout",
     "output_type": "stream",
     "text": [
      "\n",
      " 1 2021-05-30 14:02:32 \n",
      " marcomendicino \n",
      " Toronto \n",
      " RT @jkwan_md: MAY 30: #COVID19 in #Ontario\n",
      "1033 cases, 18 deaths, 2067 resolved*\n",
      "26565 tests/day, 8735 pending, 4.2% pos\n",
      "749 hospitalized (…\n",
      "\n",
      " 2 2021-05-30 14:00:10 \n",
      " ICC \n",
      " Dubai \n",
      " #OnThisDay in 2016, Alastair Cook became the first England player to reach 10,000 Test runs 🙌\n",
      "\n",
      "He became the younge… https://t.co/QkctgUFaus\n",
      "\n",
      " 3 2021-05-30 13:00:09 \n",
      " ICC \n",
      " Dubai \n",
      " After finishing seventh in the #WTC21, South Africa’s new Test captain Dean Elgar wants to perform better when the… https://t.co/MsZ740FXoI\n",
      "\n",
      " 4 2021-05-30 12:30:00 \n",
      " PunjabKingsIPL \n",
      " Punjab, India \n",
      " Aging like a fine wine 🍷\n",
      "\n",
      "#SaddaPunjab #PunjabKings @JontyRhodes8 https://t.co/Wc6o0kf8V0\n",
      "\n",
      " 5 2021-05-30 12:00:08 \n",
      " ICC \n",
      " Dubai \n",
      " A batter with great resolve and determination — we take a look at the achievements of Ken Barrington on… https://t.co/Ni2tK6vN9x\n",
      "\n",
      " 6 2021-05-30 11:00:46 \n",
      " ICC \n",
      " Dubai \n",
      " \"No way ... no, no way! You cannot do that Ben Stokes!\"\n",
      "\n",
      "#OnThisDay in 2019 🤩 https://t.co/OXoWvo2QYB\n",
      "\n",
      " 7 2021-05-30 10:02:28 \n",
      " ICC \n",
      " Dubai \n",
      " After the second day of #TheUltimateTestSeries, we have two winners by big margins after tallying all the votes acr… https://t.co/cfSMnyNNfb\n",
      "\n",
      " 8 2021-05-30 09:00:07 \n",
      " ICC \n",
      " Dubai \n",
      " 🔸 154 international matches\n",
      "🔸 405 wickets\n",
      "\n",
      "Remembering England legend Bob Willis on his birth anniversary. https://t.co/FKBRtSqYJ7\n",
      "\n",
      " 9 2021-05-30 08:30:00 \n",
      " PunjabKingsIPL \n",
      " Punjab, India \n",
      " Your contribution at this critical time can really be vital 🙏\n",
      "\n",
      "Come forward and support ➡️ https://t.co/JSBQBFL07i… https://t.co/b2h7x6mEsA\n",
      "\n",
      " 10 2021-05-30 07:33:30 \n",
      " ICC \n",
      " Dubai \n",
      " And this is how the bracket looks like! https://t.co/moYgHMOVvm\n",
      "\n",
      " 11 2021-05-30 07:32:52 \n",
      " ICC \n",
      " Dubai \n",
      " A refresher on how the two series played out 👇\n",
      "https://t.co/hISHhf386b\n",
      "\n",
      " 12 2021-05-30 07:31:54 \n",
      " ICC \n",
      " Dubai \n",
      " Get voting across our social channels! \n",
      "\n",
      "#TheUltimateTestSeries\n",
      "\n",
      " 13 2021-05-30 07:30:15 \n",
      " ICC \n",
      " Dubai \n",
      " In #TheUltimateTestSeries today, we pit the @BLACKCAPS’ 1985/86 win in Australia against a 1-1 draw between… https://t.co/azJc8tY7jQ\n",
      "\n",
      " 14 2021-05-30 06:31:41 \n",
      " ICC \n",
      " Dubai \n",
      " Here's how the bracket is looking!\n",
      "\n",
      "#TheUltimateTestSeries https://t.co/3zL3wusrYV\n",
      "\n",
      " 15 2021-05-30 06:31:40 \n",
      " ICC \n",
      " Dubai \n",
      " Need a refresher on the two series? Read on 👇\n",
      "\n",
      "https://t.co/phHTCWLjIQ\n",
      "\n",
      " 16 2021-05-30 06:31:39 \n",
      " ICC \n",
      " Dubai \n",
      " Get voting across our social channels!\n",
      "\n",
      " 17 2021-05-30 06:31:38 \n",
      " ICC \n",
      " Dubai \n",
      " On day three of our hunt for #TheUltimateTestSeries, @OfficialCSA historic victory Down Under in 2008/09 comes up a… https://t.co/2VTKkSccKw\n",
      "\n",
      " 18 2021-05-30 05:30:00 \n",
      " PunjabKingsIPL \n",
      " Punjab, India \n",
      " Wishing a very #HappyBirthday to the one who keeps our 🦁s healthy 🎉\n",
      "\n",
      "Have a great one! 🎂\n",
      "\n",
      "#SaddaPunjab #PunjabKings https://t.co/Jz89gLlPg5\n",
      "\n",
      " 19 2021-05-30 05:09:21 \n",
      " ICC \n",
      " Dubai \n",
      " \"He was somebody you couldn't help admiring and kind of wishing that he was on your team at the same time.”\n",
      "\n",
      "📽️ Nex… https://t.co/LTohq9Twwg\n",
      "\n",
      " 20 2021-05-30 04:30:00 \n",
      " PunjabKingsIPL \n",
      " Punjab, India \n",
      " Join us in wishing our co-owner Mr. Ness Wadia a year full of happiness, success and health on his special day! 🥳… https://t.co/c9c3uTGNOd\n"
     ]
    }
   ],
   "source": [
    "# Check all tweets pulled\n",
    "count=1\n",
    "for tweet in my_tweets:\n",
    "    print(\"\\n\", count,tweet.created_at, \"\\n\", tweet.user.screen_name, \"\\n\", tweet.user.location, \"\\n\", tweet.text)\n",
    "    count +=1\n"
   ]
  },
  {
   "cell_type": "code",
   "execution_count": null,
   "id": "9b276a1c-11f4-4c3d-96c8-71e0da4367b6",
   "metadata": {},
   "outputs": [],
   "source": []
  }
 ],
 "metadata": {
  "kernelspec": {
   "display_name": "Python 3",
   "language": "python",
   "name": "python3"
  },
  "language_info": {
   "codemirror_mode": {
    "name": "ipython",
    "version": 3
   },
   "file_extension": ".py",
   "mimetype": "text/x-python",
   "name": "python",
   "nbconvert_exporter": "python",
   "pygments_lexer": "ipython3",
   "version": "3.9.2"
  }
 },
 "nbformat": 4,
 "nbformat_minor": 5
}
