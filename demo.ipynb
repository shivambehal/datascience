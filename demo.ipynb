{
 "cells": [
  {
   "cell_type": "markdown",
   "id": "64f04ddf-f7a5-4d90-b478-7ee16139a1bc",
   "metadata": {},
   "source": [
    "# Twitter Analytics"
   ]
  },
  {
   "cell_type": "code",
   "execution_count": 1,
   "id": "89cf9427-0049-4371-a3c0-ddd07578a387",
   "metadata": {},
   "outputs": [],
   "source": [
    "%load_ext dotenv"
   ]
  },
  {
   "cell_type": "code",
   "execution_count": 2,
   "id": "7f3dc937-e249-4ec5-b19d-b841f4b6c936",
   "metadata": {},
   "outputs": [],
   "source": [
    "%dotenv"
   ]
  },
  {
   "cell_type": "code",
   "execution_count": 3,
   "id": "8333999c-016e-4108-ad3a-35b48110b07f",
   "metadata": {},
   "outputs": [],
   "source": [
    "import os\n",
    "import tweepy as tw"
   ]
  },
  {
   "cell_type": "code",
   "execution_count": 4,
   "id": "0e1a6a09-61b1-48f2-a5d1-208835a21090",
   "metadata": {},
   "outputs": [],
   "source": [
    "ACCESS_TOKEN=os.getenv(\"ACCESS_TOKEN\")\n",
    "ACCESS_TOKEN_SECRET=os.getenv(\"ACCESS_TOKEN_SECRET\")\n",
    "CONSUMER_API_KEY=os.getenv(\"CONSUMER_API_KEY\")\n",
    "CONSUMER_API_SECRET=os.getenv(\"CONSUMER_API_SECRET\")"
   ]
  },
  {
   "cell_type": "code",
   "execution_count": 5,
   "id": "9a816d74-5574-4275-b317-036f3ca01c32",
   "metadata": {},
   "outputs": [],
   "source": [
    "# Create the API object while passing the auth information\n",
    "\n",
    "auth = tw.OAuthHandler(CONSUMER_API_KEY, CONSUMER_API_SECRET)\n",
    "\n",
    "# Setting your access token and secret\n",
    "\n",
    "auth.set_access_token(ACCESS_TOKEN, ACCESS_TOKEN_SECRET)\n",
    "\n",
    "# Creating API object while passing the auth information\n",
    "\n",
    "api = tw.API(auth)"
   ]
  },
  {
   "cell_type": "code",
   "execution_count": 6,
   "id": "2449fc6c-a982-4cea-91aa-adf9fb37141b",
   "metadata": {},
   "outputs": [],
   "source": [
    "my_tweets = api.home_timeline()"
   ]
  },
  {
   "cell_type": "code",
   "execution_count": 7,
   "id": "effdda1e-5719-43ee-a1be-22bcf30ab707",
   "metadata": {},
   "outputs": [
    {
     "name": "stdout",
     "output_type": "stream",
     "text": [
      "\n",
      " 1 2021-05-29 17:30:18 \n",
      " ICC \n",
      " Dubai \n",
      " Next on #ICCHallOfFame is another England all-rounder, Wilfred Rhodes.\n",
      "\n",
      "#DidYouKnow he holds the world record for m… https://t.co/bqE1i2BaNa\n",
      "\n",
      " 2 2021-05-29 16:39:38 \n",
      " marcomendicino \n",
      " Toronto \n",
      " RT @CDNTrades: Today, the #BuildingTrades met with the Federal Government to discuss an immigration pilot for undocumented construction wor…\n",
      "\n",
      " 3 2021-05-29 16:11:15 \n",
      " marcomendicino \n",
      " Toronto \n",
      " RT @BogochIsaac: 1/ Canada ranks #2 among G20 countries for % of population receiving at least 1 dose of #COVID19 vaccine.\n",
      "\n",
      "Good to see 2nd…\n",
      "\n",
      " 4 2021-05-29 16:00:30 \n",
      " GovCanHealth \n",
      " Canada \n",
      " The #GoC recently launched a program for #CdnBusinesses and organizations to request free #COVID19 #RapidTesting ki… https://t.co/p0jFaMTxh5\n",
      "\n",
      " 5 2021-05-29 15:30:00 \n",
      " ICC \n",
      " Dubai \n",
      " \"In many ways, he reinvented the idea of what an England cricketer should be.\"\n",
      "\n",
      "📽️ Celebrating one of England's fin… https://t.co/iXWtbcjYhF\n",
      "\n",
      " 6 2021-05-29 14:16:00 \n",
      " AirCanada \n",
      "  \n",
      " Family reunions, meeting up with friends, and exploring the world, are some of the things we’ve missed most.… https://t.co/SiBrBawFrp\n",
      "\n",
      " 7 2021-05-29 14:15:00 \n",
      " AirCanada \n",
      "  \n",
      " Retrouver parents et amis et parcourir le monde sont parmi les choses qui nous manquent le plus. Le réseau… https://t.co/wWd8VW02h3\n",
      "\n",
      " 8 2021-05-29 13:30:15 \n",
      " ICC \n",
      " Dubai \n",
      " 🔹 38 ODIs, 65 T20Is\n",
      "🔹 1573 international runs and 99 wickets\n",
      "🔹 2018 Women's T20 Asia Cup champion\n",
      "\n",
      "Happy birthday t… https://t.co/fWzw4x5zvC\n",
      "\n",
      " 9 2021-05-29 12:30:00 \n",
      " PunjabKingsIPL \n",
      " Punjab, India \n",
      " Pehchan kaun⁉️ 🤓\n",
      "\n",
      "#GuessWho #SaddaPunjab #PunjabKings https://t.co/sZPcCNsA9n\n",
      "\n",
      " 10 2021-05-29 12:21:05 \n",
      " marcomendicino \n",
      " Toronto \n",
      " “The government deserves credit for taking an innovative approach to the immigration challenge that will be a key p… https://t.co/GlX9gt2QPE\n",
      "\n",
      " 11 2021-05-29 11:30:12 \n",
      " ICC \n",
      " Dubai \n",
      " \"No one really could match him for the skill and the quality that he had.\"\n",
      "\n",
      "Next on #ICCHallOfFame is England's gre… https://t.co/kk9uegA2uZ\n",
      "\n",
      " 12 2021-05-29 10:00:11 \n",
      " ICC \n",
      " Dubai \n",
      " After the first day of the #TheUltimateTestSeries, we have two clear winners after tallying votes across our social… https://t.co/5IsW18th8x\n",
      "\n",
      " 13 2021-05-29 08:47:41 \n",
      " PunjabKingsIPL \n",
      " Punjab, India \n",
      " The news we all were waiting for! 😍\n",
      "\n",
      "#SaddaPunjab #PunjabKings #IPL2021\n",
      "\n",
      "https://t.co/grHgalLifu\n",
      "\n",
      " 14 2021-05-29 08:30:10 \n",
      " ICC \n",
      " Dubai \n",
      " One of the greatest wicket-keepers to have represented Australia 💥\n",
      "\n",
      "Celebrating Rod Marsh on #ICCHallOfFame. \n",
      "\n",
      "📽️… https://t.co/4gjwATwQlh\n",
      "\n",
      " 15 2021-05-29 08:13:38 \n",
      " PunjabKingsIPL \n",
      " Punjab, India \n",
      " 🚨 𝗜𝗺𝗽𝗼𝗿𝘁𝗮𝗻𝘁 𝗔𝗻𝗻𝗼𝘂𝗻𝗰𝗲𝗺𝗲𝗻𝘁 🚨\n",
      "\n",
      "The BCCI has decided that the remainder of #IPL2021 will be held in the UAE 😍… https://t.co/oQwc309emY\n",
      "\n",
      " 16 2021-05-29 07:59:07 \n",
      " BCCI \n",
      " India \n",
      " NEWS 🚨 BCCI to conduct remaining matches of VIVO IPL in UAE.\n",
      "\n",
      "More details here - https://t.co/HNaT0TVpz1 #VIVOIPL https://t.co/nua3e01RJt\n",
      "\n",
      " 17 2021-05-29 07:58:57 \n",
      " ICC \n",
      " Dubai \n",
      " The remainder of the IPL 2021 season is to be held in the UAE in September-October. https://t.co/MOyfKSEUT9\n",
      "\n",
      " 18 2021-05-29 07:31:16 \n",
      " ICC \n",
      " Dubai \n",
      " The state of the bracket 🔥 https://t.co/6ArfG7Evtc\n",
      "\n",
      " 19 2021-05-29 07:31:14 \n",
      " ICC \n",
      " Dubai \n",
      " A quick recap of how those epic series played out 👇\n",
      "\n",
      "https://t.co/hrBgtbQ1p8\n",
      "\n",
      " 20 2021-05-29 07:31:13 \n",
      " ICC \n",
      " Dubai \n",
      " Get voting across our social channels! \n",
      "\n",
      "#TheUltimateTestSeries\n"
     ]
    }
   ],
   "source": [
    "# Check all tweets pulled\n",
    "count=1\n",
    "for tweet in my_tweets:\n",
    "    print(\"\\n\", count,tweet.created_at, \"\\n\", tweet.user.screen_name, \"\\n\", tweet.user.location, \"\\n\", tweet.text)\n",
    "    count +=1\n"
   ]
  },
  {
   "cell_type": "code",
   "execution_count": null,
   "id": "fe1f5731-47a8-42d8-a0ea-3aa2fb03d1e5",
   "metadata": {},
   "outputs": [],
   "source": []
  }
 ],
 "metadata": {
  "kernelspec": {
   "display_name": "Python 3",
   "language": "python",
   "name": "python3"
  },
  "language_info": {
   "codemirror_mode": {
    "name": "ipython",
    "version": 3
   },
   "file_extension": ".py",
   "mimetype": "text/x-python",
   "name": "python",
   "nbconvert_exporter": "python",
   "pygments_lexer": "ipython3",
   "version": "3.9.2"
  }
 },
 "nbformat": 4,
 "nbformat_minor": 5
}
